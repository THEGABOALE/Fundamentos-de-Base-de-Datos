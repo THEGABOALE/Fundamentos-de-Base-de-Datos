{
    "metadata": {
        "kernelspec": {
            "name": "SQL",
            "display_name": "SQL",
            "language": "sql"
        },
        "language_info": {
            "name": "sql",
            "version": ""
        }
    },
    "nbformat_minor": 2,
    "nbformat": 4,
    "cells": [
        {
            "cell_type": "markdown",
            "source": [
                "# Notebook: Consultas T-SQL con Northwind\n",
                "\n",
                "Este notebook está diseñado para practicar **consultas T-SQL** utilizando la base de datos Northwind.\n",
                "Aprenderás SELECT, FROM, WHERE, operadores, BETWEEN, IN, LIKE, ORDER BY, GROUP BY, HAVING, funciones de agregado, y JOINs."
            ],
            "metadata": {
                "azdata_cell_guid": "21e72c7a-c09a-44c6-8bdb-8fbd2fd941df"
            }
        },
        {
            "cell_type": "markdown",
            "source": [
                "## Ejercicio 1: SELECT básico\n",
                "\n",
                "Mostrar el nombre de todos los productos.\n",
                "\n",
                "- ProductName es nombre del campo de la tabla Products que contiene el nombre del producto\n",
                "- La cláusula **FROM** indica el nombre de la tabla origen de los datos de la consulta"
            ],
            "metadata": {
                "azdata_cell_guid": "98fb44c2-f59d-45ba-bc90-7a4ae7f9d83d"
            },
            "attachments": {}
        },
        {
            "cell_type": "code",
            "source": [
                "SELECT ProductName\n",
                "FROM Products;"
            ],
            "metadata": {
                "azdata_cell_guid": "031a7e18-fc04-468b-a570-36886a1d4db1",
                "language": "sql",
                "tags": []
            },
            "outputs": [],
            "execution_count": null
        },
        {
            "cell_type": "markdown",
            "source": [
                "## Ejercicio 2: SELECT con múltiples columnas\n",
                "Mostrar nombre y precio unitario de los productos."
            ],
            "metadata": {
                "azdata_cell_guid": "687715ed-9e2c-41ea-b2d3-1c20021e6ce3"
            }
        },
        {
            "cell_type": "code",
            "source": [
                "SELECT ProductName, UnitPrice\n",
                "FROM Products;"
            ],
            "metadata": {
                "azdata_cell_guid": "e6158827-9a18-4d5b-a188-174a1d6b4802",
                "language": "sql"
            },
            "outputs": [],
            "execution_count": null
        },
        {
            "cell_type": "markdown",
            "source": [
                "## Ejercicio 3: WHERE y operadores relacionales\n",
                "Productos con precio mayor a 50."
            ],
            "metadata": {
                "azdata_cell_guid": "9f8a82d8-6f39-478c-9bb4-376bd3dc1c42"
            }
        },
        {
            "cell_type": "code",
            "source": [
                "SELECT ProductName, UnitPrice\n",
                "FROM Products\n",
                "WHERE UnitPrice > 50;"
            ],
            "metadata": {
                "azdata_cell_guid": "be406fca-aec5-4462-8f92-d8e87585dd66",
                "language": "sql"
            },
            "outputs": [],
            "execution_count": null
        },
        {
            "cell_type": "markdown",
            "source": [
                "## Ejercicio 4: Operadores lógicos\n",
                "Productos con precio > 50 y stock > 20."
            ],
            "metadata": {
                "azdata_cell_guid": "8968fc0b-2cc0-4eac-a028-55f4c9a27e0b"
            }
        },
        {
            "cell_type": "code",
            "source": [
                "SELECT ProductName, UnitPrice, UnitsInStock\n",
                "FROM Products\n",
                "WHERE UnitPrice > 50 AND UnitsInStock > 20;"
            ],
            "metadata": {
                "azdata_cell_guid": "f763e61a-ada0-4f02-b1ad-4f148a2973b0",
                "language": "sql"
            },
            "outputs": [],
            "execution_count": null
        },
        {
            "cell_type": "markdown",
            "source": [
                "## Ejercicio 5: Operadores aritméticos\n",
                "Precio, descuento 10% y precio final."
            ],
            "metadata": {
                "azdata_cell_guid": "68f1babd-9f12-4706-a23e-ccb84834b414"
            }
        },
        {
            "cell_type": "code",
            "source": [
                "SELECT ProductName, UnitPrice,\n",
                "       UnitPrice * 0.10 AS Descuento,\n",
                "       UnitPrice - (UnitPrice * 0.10) AS PrecioConDescuento\n",
                "FROM Products;"
            ],
            "metadata": {
                "azdata_cell_guid": "4d804a2c-53ab-461a-9102-5be3a3d34cbc",
                "language": "sql"
            },
            "outputs": [],
            "execution_count": null
        },
        {
            "cell_type": "markdown",
            "source": [
                "## Ejercicio 6: BETWEEN\n",
                "Productos con precio entre 20 y 30."
            ],
            "metadata": {
                "azdata_cell_guid": "92fe7867-448a-4778-be63-78080cbd5a8d"
            }
        },
        {
            "cell_type": "code",
            "source": [
                "SELECT ProductName, UnitPrice\n",
                "FROM Products\n",
                "WHERE UnitPrice BETWEEN 20 AND 30;"
            ],
            "metadata": {
                "azdata_cell_guid": "54e38d06-769f-485c-a278-6d77e9f68433",
                "language": "sql"
            },
            "outputs": [],
            "execution_count": null
        },
        {
            "cell_type": "markdown",
            "source": [
                "## Ejercicio 7: IN\n",
                "Productos de categorías 1, 3 y 5."
            ],
            "metadata": {
                "azdata_cell_guid": "e43aa3fb-9256-4e14-a41e-34dc5be45088"
            }
        },
        {
            "cell_type": "code",
            "source": [
                "SELECT ProductName, CategoryID\n",
                "FROM Products\n",
                "WHERE CategoryID IN (1, 3, 5);"
            ],
            "metadata": {
                "azdata_cell_guid": "0d1ff327-d5ec-4b77-876a-5918ab885137",
                "language": "sql"
            },
            "outputs": [],
            "execution_count": null
        },
        {
            "cell_type": "markdown",
            "source": [
                "## Ejercicio 8: LIKE\n",
                "Clientes cuyo nombre de compañía empiece con 'A'."
            ],
            "metadata": {
                "azdata_cell_guid": "71333c31-5826-4930-a909-f78eb4aefc86"
            }
        },
        {
            "cell_type": "code",
            "source": [
                "SELECT CompanyName, ContactName\n",
                "FROM Customers\n",
                "WHERE CompanyName LIKE 'A%';"
            ],
            "metadata": {
                "azdata_cell_guid": "1584a83c-7e03-4d94-a30e-8481bbc5ea57",
                "language": "sql"
            },
            "outputs": [],
            "execution_count": null
        },
        {
            "cell_type": "markdown",
            "source": [
                "## Ejercicio 9: ORDER BY\n",
                "Empleados ordenados por apellido ascendente."
            ],
            "metadata": {
                "azdata_cell_guid": "bda54449-99fc-4d33-89f0-0b00769f4a40"
            }
        },
        {
            "cell_type": "code",
            "source": [
                "SELECT LastName, FirstName, Title\n",
                "FROM Employees\n",
                "ORDER BY LastName ASC;"
            ],
            "metadata": {
                "azdata_cell_guid": "9cf1edab-7d54-4763-8c59-b532bf4a1eb0",
                "language": "sql"
            },
            "outputs": [],
            "execution_count": null
        },
        {
            "cell_type": "markdown",
            "source": [
                "## Ejercicio 10: GROUP BY\n",
                "Cantidad de productos por categoría."
            ],
            "metadata": {
                "azdata_cell_guid": "38e0db9a-8e27-4f11-8517-ec64e2ed7df5"
            }
        },
        {
            "cell_type": "code",
            "source": [
                "SELECT CategoryID, COUNT(*) AS TotalProductos\n",
                "FROM Products\n",
                "GROUP BY CategoryID;"
            ],
            "metadata": {
                "azdata_cell_guid": "20d5e585-c7bd-47a0-8deb-3b41988cce96",
                "language": "sql"
            },
            "outputs": [],
            "execution_count": null
        },
        {
            "cell_type": "markdown",
            "source": [
                "## Ejercicio 11: HAVING\n",
                "Categorías con más de 10 productos."
            ],
            "metadata": {
                "azdata_cell_guid": "ea6e9a7e-c0f3-4314-9811-48caf5997ab3"
            }
        },
        {
            "cell_type": "code",
            "source": [
                "SELECT CategoryID, COUNT(*) AS TotalProductos\n",
                "FROM Products\n",
                "GROUP BY CategoryID\n",
                "HAVING COUNT(*) > 10;"
            ],
            "metadata": {
                "azdata_cell_guid": "3522764a-6b41-42fa-8c59-71479e1508a3",
                "language": "sql"
            },
            "outputs": [],
            "execution_count": null
        },
        {
            "cell_type": "markdown",
            "source": [
                "## Ejercicio 12: JOINs\n",
                "Pedidos con nombre del cliente y empleado."
            ],
            "metadata": {
                "azdata_cell_guid": "574b34ec-8567-46ba-bdfa-0f88fd9ad91b"
            }
        },
        {
            "cell_type": "code",
            "source": [
                "-- INNER JOIN\n",
                "SELECT Orders.OrderID, Customers.CompanyName, Employees.LastName\n",
                "FROM Orders\n",
                "INNER JOIN Customers ON Orders.CustomerID = Customers.CustomerID\n",
                "INNER JOIN Employees ON Orders.EmployeeID = Employees.EmployeeID;\n",
                "\n",
                "-- LEFT JOIN\n",
                "SELECT Customers.CompanyName, Orders.OrderID\n",
                "FROM Customers\n",
                "LEFT JOIN Orders ON Customers.CustomerID = Orders.CustomerID;\n",
                "\n",
                "-- RIGHT JOIN\n",
                "SELECT Customers.CompanyName, Orders.OrderID\n",
                "FROM Customers\n",
                "RIGHT JOIN Orders ON Customers.CustomerID = Orders.CustomerID;"
            ],
            "metadata": {
                "azdata_cell_guid": "c65c21a6-8645-4d4e-810d-b33d9f405ed7",
                "language": "sql"
            },
            "outputs": [],
            "execution_count": null
        },
        {
            "cell_type": "markdown",
            "source": [
                "## Ejercicios para resolver\n",
                "A continuación, redacta las consultas desde cero en nuevas celdas de código:\n",
                "1. Listar productos con stock < 10, ordenados por precio descendente.\n",
                "2. Mostrar clientes de México, España o Argentina.\n",
                "3. Listar pedidos de 1997, mostrando ID y fecha.\n",
                "4. Obtener cantidad total de pedidos por cliente, solo los que tienen > 20 pedidos.\n",
                "5. Nombre de productos junto al nombre de su categoría (INNER JOIN).\n",
                "6. Todos los empleados y el número de pedidos que tienen (LEFT JOIN)."
            ],
            "metadata": {
                "azdata_cell_guid": "91f3079e-06ce-497e-bc0b-21ab9a74aa3b"
            }
        },
        {
            "cell_type": "markdown",
            "source": [
                "### Ejericico 1\n",
                "\n",
                "Documentación:\n",
                "\n",
                "- ProductName es nombre del campo de la tabla Products que contiene el nombre del producto\n",
                "- UnitsInStock es nombre del campo de la tabla de Products que contiene las unidades en el stock\n",
                "- UnitPrice es nombre del campo de la tabla Products que contiene el precio del producto\n",
                "- La cláusula **FROM** indica el nombre de la tabla origen de los datos de la consulta\n",
                "- WHERE UnitsInStock \\< 10: Filltra las columnas para devolver los productos con menos de 10 unidades en stock\n",
                "- ORDER BY UnitPrice DESC: Ordena los datos por el precio unitario de forma descendente (mayor a menor)\n",
                "- El resultado esperado es una lista con poco stock, priorizando los más caros en la visualización\n",
                "- Esta consulta ayuda a identificar productos que están por agotarse y que además representan un mayor valor económico\n",
                "- armando.lopez"
            ],
            "metadata": {
                "azdata_cell_guid": "8117cccc-079e-4bb6-9235-5e629c4b388f"
            },
            "attachments": {}
        },
        {
            "cell_type": "code",
            "source": [
                "SELECT ProductName, UnitsInStock, UnitPrice\r\n",
                "FROM Products\r\n",
                "WHERE UnitsInStock < 10\r\n",
                "ORDER BY UnitPrice DESC"
            ],
            "metadata": {
                "azdata_cell_guid": "ea6bbc30-8fce-4832-961c-3dc598547a7b",
                "language": "sql",
                "tags": []
            },
            "outputs": [
                {
                    "output_type": "display_data",
                    "data": {
                        "text/html": "(12 rows affected)"
                    },
                    "metadata": {}
                },
                {
                    "output_type": "display_data",
                    "data": {
                        "text/html": "Total execution time: 00:00:00.032"
                    },
                    "metadata": {}
                },
                {
                    "output_type": "execute_result",
                    "execution_count": 4,
                    "data": {
                        "application/vnd.dataresource+json": {
                            "schema": {
                                "fields": [
                                    {
                                        "name": "ProductName"
                                    },
                                    {
                                        "name": "UnitsInStock"
                                    },
                                    {
                                        "name": "UnitPrice"
                                    }
                                ]
                            },
                            "data": [
                                {
                                    "ProductName": "Thüringer Rostbratwurst",
                                    "UnitsInStock": "0",
                                    "UnitPrice": "123.79"
                                },
                                {
                                    "ProductName": "Northwoods Cranberry Sauce",
                                    "UnitsInStock": "6",
                                    "UnitPrice": "40.00"
                                },
                                {
                                    "ProductName": "Alice Mutton",
                                    "UnitsInStock": "0",
                                    "UnitPrice": "39.00"
                                },
                                {
                                    "ProductName": "Perth Pasties",
                                    "UnitsInStock": "0",
                                    "UnitPrice": "32.80"
                                },
                                {
                                    "ProductName": "Mascarpone Fabioli",
                                    "UnitsInStock": "9",
                                    "UnitPrice": "32.00"
                                },
                                {
                                    "ProductName": "Chef Anton's Gumbo Mix",
                                    "UnitsInStock": "0",
                                    "UnitPrice": "21.35"
                                },
                                {
                                    "ProductName": "Louisiana Hot Spiced Okra",
                                    "UnitsInStock": "4",
                                    "UnitPrice": "17.00"
                                },
                                {
                                    "ProductName": "Scottish Longbreads",
                                    "UnitsInStock": "6",
                                    "UnitPrice": "12.50"
                                },
                                {
                                    "ProductName": "Gorgonzola Telino",
                                    "UnitsInStock": "0",
                                    "UnitPrice": "12.50"
                                },
                                {
                                    "ProductName": "Sir Rodney's Scones",
                                    "UnitsInStock": "3",
                                    "UnitPrice": "10.00"
                                },
                                {
                                    "ProductName": "Longlife Tofu",
                                    "UnitsInStock": "4",
                                    "UnitPrice": "10.00"
                                },
                                {
                                    "ProductName": "Rogede sild",
                                    "UnitsInStock": "5",
                                    "UnitPrice": "9.50"
                                }
                            ]
                        },
                        "text/html": "<table><tr><th>ProductName</th><th>UnitsInStock</th><th>UnitPrice</th></tr><tr><td>Thüringer Rostbratwurst</td><td>0</td><td>123.79</td></tr><tr><td>Northwoods Cranberry Sauce</td><td>6</td><td>40.00</td></tr><tr><td>Alice Mutton</td><td>0</td><td>39.00</td></tr><tr><td>Perth Pasties</td><td>0</td><td>32.80</td></tr><tr><td>Mascarpone Fabioli</td><td>9</td><td>32.00</td></tr><tr><td>Chef Anton&#39;s Gumbo Mix</td><td>0</td><td>21.35</td></tr><tr><td>Louisiana Hot Spiced Okra</td><td>4</td><td>17.00</td></tr><tr><td>Scottish Longbreads</td><td>6</td><td>12.50</td></tr><tr><td>Gorgonzola Telino</td><td>0</td><td>12.50</td></tr><tr><td>Sir Rodney&#39;s Scones</td><td>3</td><td>10.00</td></tr><tr><td>Longlife Tofu</td><td>4</td><td>10.00</td></tr><tr><td>Rogede sild</td><td>5</td><td>9.50</td></tr></table>"
                    },
                    "metadata": {}
                }
            ],
            "execution_count": 4
        },
        {
            "cell_type": "markdown",
            "source": [
                "Ejercicio 2\n",
                "\n",
                "  \n",
                "\n",
                "Documentación:"
            ],
            "metadata": {
                "azdata_cell_guid": "72249324-4e00-4f28-b309-f4e38494c3ca"
            },
            "attachments": {}
        },
        {
            "cell_type": "code",
            "source": [
                ""
            ],
            "metadata": {
                "azdata_cell_guid": "1083f040-1d37-459e-a4af-6364aa8b8331",
                "language": "sql"
            },
            "outputs": [],
            "execution_count": null
        }
    ]
}